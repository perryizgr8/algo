{
 "cells": [
  {
   "cell_type": "markdown",
   "metadata": {},
   "source": [
    "# Sources\n",
    "\n",
    "Upstox - https://upstox.com/developer/api-documentation/instruments/\n",
    "NSE200 - https://www.nseindia.com/products-services/indices-nifty200-index\n",
    "\n",
    "Vlookup - \"C:\\Users\\perry\\OneDrive\\nifty200\\ind_nifty200list.xlsx\""
   ]
  },
  {
   "cell_type": "code",
   "execution_count": 8,
   "metadata": {},
   "outputs": [
    {
     "name": "stdout",
     "output_type": "stream",
     "text": [
      "date: 2024-08-01T00:00:00+05:30 close: 262.65\n",
      "date: 2024-07-01T00:00:00+05:30 close: 229.45\n",
      "date: 2024-06-01T00:00:00+05:30 close: 200.56\n",
      "date: 2024-05-01T00:00:00+05:30 close: 179.15\n",
      "date: 2024-04-01T00:00:00+05:30 close: 193.15\n",
      "date: 2024-03-01T00:00:00+05:30 close: 182.1\n",
      "date: 2024-02-01T00:00:00+05:30 close: 165.45\n",
      "date: 2024-01-01T00:00:00+05:30 close: 139.55\n",
      "date: 2023-12-01T00:00:00+05:30 close: 123.7\n",
      "date: 2023-11-01T00:00:00+05:30 close: 118.55\n",
      "date: 2023-10-01T00:00:00+05:30 close: 105.1\n",
      "date: 2023-09-01T00:00:00+05:30 close: 101.5\n"
     ]
    },
    {
     "data": {
      "text/plain": [
       "1.5876847290640392"
      ]
     },
     "execution_count": 8,
     "metadata": {},
     "output_type": "execute_result"
    }
   ],
   "source": [
    "from datetime import date, timedelta, datetime\n",
    "import requests\n",
    "\n",
    "sym_returns = dict()\n",
    "\n",
    "def datesort(crow):\n",
    "    dt = crow[0]\n",
    "    return int(datetime.fromisoformat(dt).timestamp())\n",
    "\n",
    "def get_12m_returns(isin):\n",
    "    ed = str(date.today())\n",
    "    sd = str(date.today() - timedelta(weeks=52))\n",
    "    url = f\"https://api-v2.upstox.com/historical-candle/NSE_EQ%7C{isin}/month/{ed}/{sd}\"\n",
    "    h = {\n",
    "        \"Api-Version\": \"2.0\",\n",
    "        \"Accept\": \"application/json\",\n",
    "        \"Authorization\": \"***REMOVED***\",\n",
    "    }\n",
    "\n",
    "    # https://upstox.com/developer/api-documentation/get-historical-candle-data/\n",
    "    resp = requests.get(url, headers=h)\n",
    "    rjson = resp.json()\n",
    "    \n",
    "    if rjson[\"status\"] != \"success\":\n",
    "        raise Exception(rjson[\"status\"])\n",
    "    \n",
    "    candles = rjson[\"data\"][\"candles\"]\n",
    "    candles.sort(key=datesort, reverse=True)\n",
    "    for c in candles:\n",
    "        print(f\"date: {c[0]} close: {c[4]}\")\n",
    "\n",
    "    start_price = candles[-1][4]\n",
    "    end_price = candles[0][4]\n",
    "    return (end_price - start_price)/start_price\n",
    "\n",
    "get_12m_returns(\"INE758T01015\")"
   ]
  },
  {
   "cell_type": "code",
   "execution_count": null,
   "metadata": {},
   "outputs": [],
   "source": [
    "# Sort C200 by previous 12 months returns decreasing\n",
    "\n",
    "from datetime import date, timedelta, datetime\n",
    "import requests\n",
    "import pandas as pd\n",
    "\n",
    "sym_returns = dict()\n",
    "\n",
    "def datesort(crow):\n",
    "    dt = crow[0]\n",
    "    return int(datetime.fromisoformat(dt).timestamp())\n",
    "\n",
    "def get_12m_returns(isin):\n",
    "    ed = str(date.today())\n",
    "    sd = str(date.today() - timedelta(weeks=52))\n",
    "    url = f\"https://api-v2.upstox.com/historical-candle/NSE_EQ%7C{isin}/month/{ed}/{sd}\"\n",
    "    h = {\n",
    "        \"Api-Version\": \"2.0\",\n",
    "        \"Accept\": \"application/json\",\n",
    "        \"Authorization\": \"***REMOVED***\",\n",
    "    }\n",
    "\n",
    "    # https://upstox.com/developer/api-documentation/get-historical-candle-data/\n",
    "    resp = requests.get(url, headers=h)\n",
    "    if resp.status_code != 200:\n",
    "        print(f\"isin: {isin} err: {resp}\")\n",
    "        return None\n",
    "    rjson = resp.json()\n",
    "    \n",
    "    if rjson[\"status\"] != \"success\":\n",
    "        raise Exception(rjson[\"status\"])\n",
    "    \n",
    "    candles = rjson[\"data\"][\"candles\"]\n",
    "    candles.sort(key=datesort, reverse=True)\n",
    "    # for c in candles:\n",
    "    #     print(f\"date: {c[0]} close: {c[4]}\")\n",
    "    \n",
    "    start_price = candles[-1][4]\n",
    "    end_price = candles[0][4]\n",
    "    return (end_price - start_price)/start_price\n",
    "\n",
    "def apply_12m_returns(row):\n",
    "    sym_returns[row['Symbol']] = get_12m_returns(isin=row['ISIN Code'])\n",
    "\n",
    "df = pd.read_csv(C200)\n",
    "_ = df.apply(apply_12m_returns, axis='columns')\n",
    "\n",
    "t200 = []\n",
    "for k,v in sorted(sym_returns.items(), key=lambda x: x[1], reverse=True):\n",
    "    t200.append({\"symbol\": k, \"gain\": v})\n",
    "\n",
    "# print(t200)\n"
   ]
  },
  {
   "cell_type": "code",
   "execution_count": 8,
   "metadata": {},
   "outputs": [
    {
     "name": "stdout",
     "output_type": "stream",
     "text": [
      "[{'symbol': 'OIL', 'gain': 2.4215809284818066}, {'symbol': 'RVNL', 'gain': 2.379758040719977}, {'symbol': 'TRENT', 'gain': 2.3405042905559696}, {'symbol': 'SUZLON', 'gain': 2.0558139534883724}, {'symbol': 'OFSS', 'gain': 1.82405673172559}, {'symbol': 'PRESTIGE', 'gain': 1.7840192499170264}, {'symbol': 'KALYANKJIL', 'gain': 1.5880026367831244}, {'symbol': 'ZOMATO', 'gain': 1.5876847290640392}, {'symbol': 'BDL', 'gain': 1.5516338601764763}, {'symbol': 'HINDPETRO', 'gain': 1.5351672397624259}, {'symbol': 'DIXON', 'gain': 1.5089662995698823}, {'symbol': 'HAL', 'gain': 1.5012317506418067}, {'symbol': 'IRFC', 'gain': 1.3959503592423252}, {'symbol': 'INDUSTOWER', 'gain': 1.265779864371414}, {'symbol': 'TORNTPOWER', 'gain': 1.2640487474610698}, {'symbol': 'BHEL', 'gain': 1.2610687022900762}, {'symbol': 'CUMMINSIND', 'gain': 1.2531097093674466}, {'symbol': 'VEDL', 'gain': 1.2403390675641983}, {'symbol': 'BEL', 'gain': 1.212581344902386}, {'symbol': 'POLICYBZR', 'gain': 1.2031362299901993}, {'symbol': 'BPCL', 'gain': 1.1633906633906632}, {'symbol': 'BSE', 'gain': 1.1122924611887977}, {'symbol': 'MOTHERSON', 'gain': 1.0595833333333333}, {'symbol': 'BAJAJ-AUTO', 'gain': 1.0551079250350537}, {'symbol': 'PFC', 'gain': 1.0436681222707422}, {'symbol': 'RECLTD', 'gain': 1.0414057063326378}, {'symbol': 'IOC', 'gain': 1.014310645724258}, {'symbol': 'MAZDOCK', 'gain': 1.0124076270413287}, {'symbol': 'INDIGO', 'gain': 0.9781832689400303}, {'symbol': 'VOLTAS', 'gain': 0.958241630951002}, {'symbol': 'GAIL', 'gain': 0.9299411269974768}, {'symbol': 'ADANIGREEN', 'gain': 0.9256445322392748}, {'symbol': 'COALINDIA', 'gain': 0.9248080014288267}, {'symbol': 'ZYDUSLIFE', 'gain': 0.9165853658536586}, {'symbol': 'SIEMENS', 'gain': 0.9120898570456092}, {'symbol': 'ABB', 'gain': 0.9022143597877142}, {'symbol': 'GODREJPROP', 'gain': 0.8555112283636833}, {'symbol': 'FACT', 'gain': 0.8453110492107707}, {'symbol': 'NHPC', 'gain': 0.8388257575757577}, {'symbol': 'JSWINFRA', 'gain': 0.8339722795635504}, {'symbol': 'SJVN', 'gain': 0.8278879015721121}, {'symbol': 'HEROMOTOCO', 'gain': 0.8209147011581704}, {'symbol': 'TVSMOTOR', 'gain': 0.8182415560520437}, {'symbol': 'ADANIPORTS', 'gain': 0.80730776222505}, {'symbol': 'ADANIPOWER', 'gain': 0.7904358193138163}, {'symbol': 'LUPIN', 'gain': 0.7874493062966917}, {'symbol': 'M&M', 'gain': 0.775132700659482}, {'symbol': 'NAUKRI', 'gain': 0.7748061364127434}, {'symbol': 'COLPAL', 'gain': 0.7608386726833037}, {'symbol': 'TATAMTRDVR', 'gain': 0.7502628197640463}, {'symbol': 'TORNTPHARM', 'gain': 0.7362241459748069}, {'symbol': 'TATAMOTORS', 'gain': 0.7219136781973977}, {'symbol': 'BOSCHLTD', 'gain': 0.7140202001083088}, {'symbol': 'ONGC', 'gain': 0.7135948414830735}, {'symbol': 'CGPOWER', 'gain': 0.6965174129353235}, {'symbol': 'PERSISTENT', 'gain': 0.6845791571066296}, {'symbol': 'POWERGRID', 'gain': 0.6833541927409261}, {'symbol': 'AUROPHARMA', 'gain': 0.6822879641275222}, {'symbol': 'VBL', 'gain': 0.6729406788622183}, {'symbol': 'HDFCAMC', 'gain': 0.6565940810969046}, {'symbol': 'NTPC', 'gain': 0.6369374872734676}, {'symbol': 'LICI', 'gain': 0.6334744132358598}, {'symbol': 'SHRIRAMFIN', 'gain': 0.6289629301586477}, {'symbol': 'BHARTIARTL', 'gain': 0.6264572538860104}, {'symbol': 'FORTIS', 'gain': 0.6214149139579351}, {'symbol': 'GMRINFRA', 'gain': 0.6095717884130982}, {'symbol': 'JSWENERGY', 'gain': 0.6091678097850939}, {'symbol': 'ICICIGI', 'gain': 0.6011607040586463}, {'symbol': 'DLF', 'gain': 0.6001130156338295}, {'symbol': 'ALKEM', 'gain': 0.5956765301311739}, {'symbol': 'TATAPOWER', 'gain': 0.5934044986656499}, {'symbol': 'PETRONET', 'gain': 0.5917578879587896}, {'symbol': 'KPITTECH', 'gain': 0.5850906881888398}, {'symbol': 'INDHOTEL', 'gain': 0.5614205789345657}, {'symbol': 'NMDC', 'gain': 0.559493670886076}, {'symbol': 'PATANJALI', 'gain': 0.5328652705483596}, {'symbol': 'SUNPHARMA', 'gain': 0.5326025978509471}, {'symbol': 'ASHOKLEY', 'gain': 0.5135135135135133}, {'symbol': 'MAXHEALTH', 'gain': 0.5032604864293269}, {'symbol': 'AMBUJACEM', 'gain': 0.4915254237288136}, {'symbol': 'ABFRL', 'gain': 0.4912485414235706}, {'symbol': 'CANBK', 'gain': 0.4897009966777408}, {'symbol': 'BHARATFORG', 'gain': 0.4843349212165629}, {'symbol': 'IPCALAB', 'gain': 0.4821247261262224}, {'symbol': 'NYKAA', 'gain': 0.4802219321148827}, {'symbol': 'OBEROIRLTY', 'gain': 0.4753757525880366}, {'symbol': 'LODHA', 'gain': 0.45165322832677035}, {'symbol': 'PNB', 'gain': 0.44975062344139644}, {'symbol': 'LICHSGFIN', 'gain': 0.44847636481102615}, {'symbol': 'GODREJCP', 'gain': 0.44044977813634517}, {'symbol': 'EICHERMOT', 'gain': 0.42099537272081133}, {'symbol': 'GRASIM', 'gain': 0.42065953377784676}, {'symbol': 'UNITDSPR', 'gain': 0.4193596425912138}, {'symbol': 'JIOFIN', 'gain': 0.41500865051903113}, {'symbol': 'YESBANK', 'gain': 0.4139130434782609}, {'symbol': 'GUJGASLTD', 'gain': 0.4045873729013952}, {'symbol': 'SAIL', 'gain': 0.40426212040490145}, {'symbol': 'ATGL', 'gain': 0.3995923359152058}, {'symbol': 'IDBI', 'gain': 0.393922261484099}, {'symbol': 'HINDALCO', 'gain': 0.390642443925708}, {'symbol': 'BAJAJHLDNG', 'gain': 0.38906239009636345}, {'symbol': 'CONCOR', 'gain': 0.3827841385087964}, {'symbol': 'APOLLOTYRE', 'gain': 0.3796283737962839}, {'symbol': 'ULTRACEMCO', 'gain': 0.37395591682465446}, {'symbol': 'SBILIFE', 'gain': 0.37069097594607003}, {'symbol': 'JINDALSTEL', 'gain': 0.3685748912811007}, {'symbol': 'TATACONSUM', 'gain': 0.364807845820504}, {'symbol': 'SBIN', 'gain': 0.3622086709548076}, {'symbol': 'TIINDIA', 'gain': 0.36010440718803327}, {'symbol': 'IDEA', 'gain': 0.3579399141630901}, {'symbol': 'HAVELLS', 'gain': 0.3568882969149358}, {'symbol': 'IRCTC', 'gain': 0.35609899390467786}, {'symbol': 'FEDERALBNK', 'gain': 0.35570652173913053}, {'symbol': 'HCLTECH', 'gain': 0.3455215419501135}, {'symbol': 'SUPREMEIND', 'gain': 0.3359577823607909}, {'symbol': 'APOLLOHOSP', 'gain': 0.33535107780643275}, {'symbol': 'DMART', 'gain': 0.33352377843073244}, {'symbol': 'DEEPAKNTR', 'gain': 0.3304015657053929}, {'symbol': 'CIPLA', 'gain': 0.3274459385406566}, {'symbol': 'MANKIND', 'gain': 0.3159082047568651}, {'symbol': 'ADANIENSOL', 'gain': 0.31521135452020993}, {'symbol': 'LALPATHLAB', 'gain': 0.3088319765484184}, {'symbol': 'MAHABANK', 'gain': 0.307660020986359}, {'symbol': 'TECHM', 'gain': 0.3071638861629049}, {'symbol': 'INFY', 'gain': 0.29722386708000964}, {'symbol': 'INDIANB', 'gain': 0.2946523432888679}, {'symbol': 'ICICIPRULI', 'gain': 0.2927410808901448}, {'symbol': 'BIOCON', 'gain': 0.29169728141072754}, {'symbol': 'MRF', 'gain': 0.29100913737375994}, {'symbol': 'DIVISLAB', 'gain': 0.2897095733237719}, {'symbol': 'PIIND', 'gain': 0.2801911381407472}, {'symbol': 'RELIANCE', 'gain': 0.27929637526652445}, {'symbol': 'BRITANNIA', 'gain': 0.27671555932689024}, {'symbol': 'ADANIENT', 'gain': 0.2744314180372011}, {'symbol': 'TCS', 'gain': 0.2650626310718131}, {'symbol': 'PIDILITIND', 'gain': 0.2644599303135889}, {'symbol': 'ICICIBANK', 'gain': 0.26431347830654484}, {'symbol': 'POLYCAB', 'gain': 0.26410009264371465}, {'symbol': 'WIPRO', 'gain': 0.26191355744366446}, {'symbol': 'MPHASIS', 'gain': 0.26131869056635537}, {'symbol': 'LTF', 'gain': 0.2593538692712247}, {'symbol': 'SUNTV', 'gain': 0.2567998039696154}, {'symbol': 'DRREDDY', 'gain': 0.24476463218185074}, {'symbol': 'JUBLFOOD', 'gain': 0.21975239167135616}, {'symbol': 'ABCAPITAL', 'gain': 0.2174492914698529}, {'symbol': 'ESCORTS', 'gain': 0.21690056827101187}, {'symbol': 'MARICO', 'gain': 0.20751357607050666}, {'symbol': 'JSWSTEEL', 'gain': 0.20709338122113896}, {'symbol': 'TATASTEEL', 'gain': 0.1962761830876647}, {'symbol': 'UNIONBANK', 'gain': 0.19548447789275636}, {'symbol': 'LTTS', 'gain': 0.19367563019700829}, {'symbol': 'SONACOMS', 'gain': 0.19189235515941044}, {'symbol': 'LT', 'gain': 0.1901738023184667}, {'symbol': 'BANKBARODA', 'gain': 0.18018228558074323}, {'symbol': 'COFORGE', 'gain': 0.17980389660002552}, {'symbol': 'MFSL', 'gain': 0.16696894751305313}, {'symbol': 'DABUR', 'gain': 0.16615300942712105}, {'symbol': 'MARUTI', 'gain': 0.1594349047179235}, {'symbol': 'ACC', 'gain': 0.1548018387377314}, {'symbol': 'IGL', 'gain': 0.15213806749477835}, {'symbol': 'HDFCLIFE', 'gain': 0.14370881706934424}, {'symbol': 'HINDUNILVR', 'gain': 0.1419532770927969}, {'symbol': 'ITC', 'gain': 0.13816381638163824}, {'symbol': 'TITAN', 'gain': 0.13376524390243896}, {'symbol': 'LAURUSLABS', 'gain': 0.1284774911482044}, {'symbol': 'AXISBANK', 'gain': 0.12467444776695283}, {'symbol': 'NESTLEIND', 'gain': 0.12373928111254277}, {'symbol': 'GLAND', 'gain': 0.11557518954092302}, {'symbol': 'BALKRISIND', 'gain': 0.11547032606145902}, {'symbol': 'CHOLAFIN', 'gain': 0.10779844770235308}, {'symbol': 'SRF', 'gain': 0.10725082244153997}, {'symbol': 'BANKINDIA', 'gain': 0.10201096892138936}, {'symbol': 'LTIM', 'gain': 0.08287186771212222}, {'symbol': 'PAGEIND', 'gain': 0.06500866499994219}, {'symbol': 'HDFCBANK', 'gain': 0.06469894516150167}, {'symbol': 'BAJAJFINSV', 'gain': 0.06469728940107132}, {'symbol': 'POONAWALLA', 'gain': 0.05285301078096231}, {'symbol': 'SYNGENE', 'gain': 0.047752285021451193}, {'symbol': 'KOTAKBANK', 'gain': 0.04741602811545771}, {'symbol': 'TATACHEM', 'gain': 0.03985647788983699}, {'symbol': 'DELHIVERY', 'gain': 0.03646716743397144}, {'symbol': 'ASTRAL', 'gain': 0.017725953619702403}, {'symbol': 'M&MFIN', 'gain': 0.012112161937945834}, {'symbol': 'PEL', 'gain': 0.0030018582932292287}, {'symbol': 'ASIANPAINT', 'gain': -0.0020246437101596277}, {'symbol': 'BERGEPAINT', 'gain': -0.005537487914212846}, {'symbol': 'TATACOMM', 'gain': -0.01337472513258306}, {'symbol': 'TATAELXSI', 'gain': -0.019233031001155365}, {'symbol': 'INDUSINDBK', 'gain': -0.02820450012247609}, {'symbol': 'SHREECEM', 'gain': -0.029803652071470673}, {'symbol': 'UPL', 'gain': -0.06904665314401616}, {'symbol': 'SBICARD', 'gain': -0.0941094678296044}, {'symbol': 'AUBANK', 'gain': -0.12291520672740021}, {'symbol': 'APLAPOLLO', 'gain': -0.12455384615384621}, {'symbol': 'BAJFINANCE', 'gain': -0.13761802643792204}, {'symbol': 'BANDHANBNK', 'gain': -0.19825119236883942}, {'symbol': 'TATATECH', 'gain': -0.2102437166793602}, {'symbol': 'IDFCFIRSTB', 'gain': -0.2207329842931937}, {'symbol': 'DALBHARAT', 'gain': -0.24967246865057083}, {'symbol': 'PAYTM', 'gain': -0.3530954879328437}, {'symbol': 'ZEEL', 'gain': -0.48350028350028357}]\n"
     ]
    }
   ],
   "source": [
    "# select top 40 (T40) and top 20 (T20) from it.\n",
    "\n",
    "t40 = t200[:40]\n",
    "t20 = t200[:20]"
   ]
  },
  {
   "cell_type": "code",
   "execution_count": null,
   "metadata": {},
   "outputs": [],
   "source": [
    "# Open portfolio.csv, which contains all symbols held currently, call it HXX\n",
    "\n",
    "import pandas as pd\n",
    "\n",
    "df = pd.read_csv(\"portfolio.csv\")"
   ]
  }
 ],
 "metadata": {
  "kernelspec": {
   "display_name": ".venv",
   "language": "python",
   "name": "python3"
  },
  "language_info": {
   "codemirror_mode": {
    "name": "ipython",
    "version": 3
   },
   "file_extension": ".py",
   "mimetype": "text/x-python",
   "name": "python",
   "nbconvert_exporter": "python",
   "pygments_lexer": "ipython3",
   "version": "3.11.9"
  }
 },
 "nbformat": 4,
 "nbformat_minor": 2
}
